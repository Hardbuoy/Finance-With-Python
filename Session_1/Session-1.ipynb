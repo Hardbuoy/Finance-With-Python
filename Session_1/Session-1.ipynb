{
 "cells": [
  {
   "cell_type": "markdown",
   "id": "1a433477-b715-446e-afce-b78c501e3854",
   "metadata": {},
   "source": [
    "# Python Basics\n",
    "This section covers the fundamentals of python like variables, data types, control, list, dictionaries etc."
   ]
  },
  {
   "cell_type": "code",
   "execution_count": 1,
   "id": "82cc925f-07ec-406f-98f9-6c0391283d57",
   "metadata": {},
   "outputs": [],
   "source": [
    "stock_price = 150.75\n",
    "shares = 10\n",
    "stock_name =\"AAPL\"\n",
    "is_profitable = True"
   ]
  },
  {
   "cell_type": "code",
   "execution_count": 2,
   "id": "d2374aab-0a95-4a8e-ab50-dcc8bd65da6a",
   "metadata": {},
   "outputs": [
    {
     "name": "stdout",
     "output_type": "stream",
     "text": [
      "150.75\n",
      "10\n",
      "AAPL\n",
      "True\n"
     ]
    }
   ],
   "source": [
    "print(stock_price)\n",
    "print(shares)\n",
    "print(stock_name)\n",
    "print(is_profitable)"
   ]
  },
  {
   "cell_type": "code",
   "execution_count": 3,
   "id": "8bcc1f1d-e190-4bb9-812b-b0a1e739142e",
   "metadata": {},
   "outputs": [
    {
     "name": "stdout",
     "output_type": "stream",
     "text": [
      "<class 'float'>\n",
      "<class 'int'>\n",
      "<class 'str'>\n",
      "<class 'bool'>\n"
     ]
    }
   ],
   "source": [
    "print(type(stock_price))\n",
    "print(type(shares))\n",
    "print(type(stock_name))\n",
    "print(type(is_profitable))"
   ]
  },
  {
   "cell_type": "code",
   "execution_count": 4,
   "id": "4b9f195d-b7a7-41e9-b86d-def7cc7267f3",
   "metadata": {},
   "outputs": [
    {
     "name": "stdout",
     "output_type": "stream",
     "text": [
      "[150.75, 152.3, 148, 151.0, 153, 'closed', 'closed']\n",
      "<class 'list'>\n",
      "Length: 7\n",
      "150.75\n"
     ]
    }
   ],
   "source": [
    "stock_prices = [ 150.75, 152.30, 148, 151.00, 153, \"closed\", \"closed\"]\n",
    "print(stock_prices)\n",
    "print(type(stock_prices))\n",
    "print(f\"Length: {len(stock_prices)}\")\n",
    "print(stock_prices[0])"
   ]
  },
  {
   "cell_type": "code",
   "execution_count": 5,
   "id": "5a050f22-392f-4108-b296-057b005ce14d",
   "metadata": {},
   "outputs": [
    {
     "name": "stdout",
     "output_type": "stream",
     "text": [
      "stock_info.keys() dict_keys(['stockName', 'price', 'shares'])\n",
      "stock_info.values() dict_values(['AAPL', 150.75, 10])\n",
      "stock_info.items() dict_items([('stockName', 'AAPL'), ('price', 150.75), ('shares', 10)])\n",
      "stock_info.get('price') 150.75\n",
      "stock_info.get('coutry', 'N/A') N/A\n",
      "AAPL\n"
     ]
    }
   ],
   "source": [
    "stock_info = { \"stockName\": \"AAPL\", \"price\": 150.75, \"shares\": 10}\n",
    "print(\"stock_info.keys()\", stock_info.keys())\n",
    "print(\"stock_info.values()\", stock_info.values())\n",
    "print(\"stock_info.items()\",  stock_info.items())\n",
    "print(\"stock_info.get('price')\", stock_info.get(\"price\"))\n",
    "print(\"stock_info.get('coutry', 'N/A')\",   stock_info.get(\"coutry\", \"N/A\"))\n",
    "\n",
    "print(stock_info[\"stockName\"])"
   ]
  },
  {
   "cell_type": "code",
   "execution_count": 6,
   "id": "7d7ed0d0-e92f-4e90-b9b1-4bde13b7d862",
   "metadata": {},
   "outputs": [],
   "source": [
    "#functions\n",
    "def calculate_total_value(price, numofShares):\n",
    "    return price * numofShares\n",
    "    "
   ]
  },
  {
   "cell_type": "code",
   "execution_count": 7,
   "id": "46fa4afa-8973-40b9-bbe1-5dcfaa20e3a8",
   "metadata": {},
   "outputs": [
    {
     "name": "stdout",
     "output_type": "stream",
     "text": [
      "$1507.5\n",
      "$10000\n"
     ]
    }
   ],
   "source": [
    "total_value = calculate_total_value(stock_price, shares)\n",
    "print(f\"${total_value}\")\n",
    "\n",
    "total_value = calculate_total_value(1000, 10)\n",
    "print(f\"${total_value}\")\n"
   ]
  },
  {
   "cell_type": "code",
   "execution_count": 8,
   "id": "84f14646-865f-45bd-a3a2-b3cc0180269a",
   "metadata": {},
   "outputs": [
    {
     "name": "stdout",
     "output_type": "stream",
     "text": [
      "total value: 10000\n",
      "this is very profitable\n"
     ]
    }
   ],
   "source": [
    "print(f\"total value: {total_value}\")\n",
    "if total_value > 3000 and total_value < 5999:\n",
    "    print(\"this is somewhat profitable\")\n",
    "elif total_value > 5000:\n",
    "    print(\"this is very profitable\")\n",
    "else:\n",
    "    print(\"Not profitable\")"
   ]
  },
  {
   "cell_type": "code",
   "execution_count": 9,
   "id": "71e8efb4-286c-46f8-ab6b-763514ce8961",
   "metadata": {},
   "outputs": [
    {
     "name": "stdout",
     "output_type": "stream",
     "text": [
      "$150.75\n",
      "$152.3\n",
      "$148\n",
      "$151.0\n",
      "$153\n",
      "closed\n",
      "closed\n"
     ]
    }
   ],
   "source": [
    "#Loops\n",
    "\n",
    "for price in stock_prices:\n",
    "   \n",
    "    if isinstance(price, str):\n",
    "        print(f\"{price}\")\n",
    "    else:\n",
    "        print(f\"${price}\")"
   ]
  },
  {
   "cell_type": "code",
   "execution_count": null,
   "id": "0ff30040-d00b-435f-b4cb-a02b03a25a7a",
   "metadata": {},
   "outputs": [],
   "source": []
  }
 ],
 "metadata": {
  "kernelspec": {
   "display_name": "Python 3 (ipykernel)",
   "language": "python",
   "name": "python3"
  },
  "language_info": {
   "codemirror_mode": {
    "name": "ipython",
    "version": 3
   },
   "file_extension": ".py",
   "mimetype": "text/x-python",
   "name": "python",
   "nbconvert_exporter": "python",
   "pygments_lexer": "ipython3",
   "version": "3.12.4"
  }
 },
 "nbformat": 4,
 "nbformat_minor": 5
}
